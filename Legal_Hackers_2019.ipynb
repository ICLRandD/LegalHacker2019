{
 "cells": [
  {
   "cell_type": "markdown",
   "metadata": {},
   "source": [
    "<img src=\"https://legalhackers19.s3.amazonaws.com/Mind+Map.png\">"
   ]
  },
  {
   "cell_type": "markdown",
   "metadata": {},
   "source": [
    "# Legal Hackers Annual Summit 2019\n",
    "## Open Legal Data Forum"
   ]
  },
  {
   "cell_type": "markdown",
   "metadata": {},
   "source": [
    "<img src=\"https://legalhackers19.s3.amazonaws.com/CAP_image.png\">"
   ]
  },
  {
   "cell_type": "markdown",
   "metadata": {},
   "source": [
    "The amassed body of the decisions of judges in the courts serves as an unwitting commentary on how far we have come (or, in some cases, how far we have yet to develop) as civilised societies governed by the rule of law. Case law is jam-packed with hidden insight just waiting to be uncovered. It can tell us how certain issues have risen to prominence and descended back into irrelevance over time. It can provide us with clues about how the occurrence of specific criminal offences relate to broader issues in taking place in society. It can show us how far societal attitudes have evolved in any number of walks of life.\n",
    "\n",
    "What is strange is that, until very recently, openly accessible case law data was virtually non-existent; the material could only be accessed on a document-by-document basis via expensive subscription services traditionally used by lawyers that, one way or another, prohibited “big data” research at scale. \n",
    "\n",
    "The launch of the Case Law Access Project (CAP) by the Library Innovation Lab at Harvard University in 2018 was a significant leap forward for open legal data research: CAP exposes a mega 6.7 million US state decisions and 1.7 million federal decisions in a semi-structured format. \n",
    "\n",
    "The CAP dataset provides the potential for a dizzying array of innovative applications, but it also presents us, as researchers, with a range of technical challenges bound up with wrangling and exploring such a large text-based dataset. \n",
    "\n",
    "In this workshop, we will:\n",
    "\n",
    "1. Survey the current state of open access to legal data in the USA and United Kingdom with a focus on case law. Participants are encouraged to share their experience and knowledge of open access in their own jurisdictions\n",
    "2. Take a tour through existing experiments with the CAP dataset \n",
    "3. Explore the fundamentals of wrangling text data and natural language processing \n",
    "4. Identify questions we would like to ask the data and devise strategies for answering those questions. \n",
    "\n",
    "### Workshop Leaders\n",
    "\n",
    "**Andrew Silva**, Application Developer at Harvard Law School’s Library Innovation Lab. Andrew is a self-taught developer who was working as a classically trained chef before accepting a position with LIL. He was technical lead during the digitization phase of the Caselaw Access Project and has worked in the field of law library technology at Harvard for about fifteen years.\n",
    "\n",
    "**Daniel Hoadley**, Head of Research at the Incorporated Council of Law Reporting for England and Wales. Daniel is director of ICLR’s research lab, ICLR&D, and a developer of iclr.co.uk. Daniel is the author of the Blackstone Python library for legal natural language processing. Daniel was called to the English Bar in 2009 and previously worked as a legal journalist. \n",
    "\n",
    "---"
   ]
  },
  {
   "cell_type": "markdown",
   "metadata": {},
   "source": [
    "## 1. Preparation (our *mise en place*)\n",
    "\n",
    "Before we can start playing with the Caselaw Access Project data, we need to do a bit of prep-work and get our environment ready for business. \n",
    "\n",
    "We're going to be doing the data analysis-stuff in this *notebook* environment using *Python 3.6* as a programming language. Notebooks aren't great for full-on development, but there are great for demonstrating code, because we can mix code with text and images! \n",
    "\n",
    "We have the following jobs to do to get our enviroment ready:\n",
    "\n",
    "1. Import the third-party libraries we'll be using at various points throughout the workshop.\n",
    "2. Load a few statistical models (we'll be using these statistical models to make various *predictions* on the case law data) \n",
    "3. Add some additional components to the models\n",
    "\n",
    "#### 1A. Import libraries"
   ]
  },
  {
   "cell_type": "code",
   "execution_count": 2,
   "metadata": {},
   "outputs": [],
   "source": [
    "import pandas as pd \n",
    "\n",
    "from blackstone.concepts import Concepts\n",
    "from blackstone.rules.concept_rules import CONCEPT_PATTERNS\n",
    "from blackstone.compound_cases import CompoundCases\n",
    "\n",
    "from gensim.summarization import summarize\n",
    "\n",
    "import spacy \n",
    "from spacy import displacy\n",
    "import spacy.cli\n",
    "\n",
    "from wasabi import Printer\n",
    "\n",
    "msg = Printer()"
   ]
  },
  {
   "cell_type": "markdown",
   "metadata": {},
   "source": [
    "#### 1B. Load the statistical models\n",
    "\n",
    "We're going to be using two spaCy statistical models in this workshop:\n",
    "\n",
    "* `en_core_web_sm`: this is a general-purpose NLP model trained on a variety of web-based text\n",
    "* `en_blackstone_proto`: this is an experimental legal NLP model developed by ICLR&D"
   ]
  },
  {
   "cell_type": "code",
   "execution_count": 3,
   "metadata": {},
   "outputs": [
    {
     "name": "stdout",
     "output_type": "stream",
     "text": [
      "CPU times: user 2.96 s, sys: 422 ms, total: 3.38 s\n",
      "Wall time: 3.79 s\n"
     ]
    }
   ],
   "source": [
    "%%time\n",
    "general_nlp = spacy.load('en_core_web_sm')\n",
    "blackstone_nlp = spacy.load('en_blackstone_proto')"
   ]
  },
  {
   "cell_type": "markdown",
   "metadata": {},
   "source": [
    "#### 1C. Set up custom pipelines in the Blackstone model\n",
    "\n",
    "We're going to be making use of two custom pipeline components that ship with Blackstone:\n",
    "\n",
    "* `Concept`: this will be used for keyword/keyphrase extraction\n",
    "* `CompoundCases`: this will be used for the extraction of case_name + citation pairs (e.g. *Smith v Jones* \\[1998\\] 1 WLR 123)"
   ]
  },
  {
   "cell_type": "code",
   "execution_count": 4,
   "metadata": {},
   "outputs": [],
   "source": [
    "if 'Concepts' not in blackstone_nlp.pipe_names:\n",
    "  concepts_pipe = Concepts(blackstone_nlp) \n",
    "  blackstone_nlp.add_pipe(concepts_pipe)\n",
    "if 'CompoundCases' not in blackstone_nlp.pipe_names:\n",
    "  compound_pipe = CompoundCases(blackstone_nlp)\n",
    "  blackstone_nlp.add_pipe(compound_pipe)"
   ]
  },
  {
   "cell_type": "markdown",
   "metadata": {},
   "source": [
    "---\n",
    "## 2. The Dataset\n",
    "\n",
    "This notebook uses a dataset consisting of court decisions from Arkansas, Illinois and New Mexico courtesy of the Caselaw Access Project. The dataset consists of approximately 261,000 opinions.\n",
    "\n",
    "* Arkansas: 59,735 cases in the dataset.\n",
    "* Illinois: 183,146 cases in the dataset\n",
    "* New Mexico: 18,338 cases in the dataset.\n",
    "\n",
    "The dataset is large (approx 2.6gb on disk)! To make this notebook easier to move around, we're going to be loading the data from a publicly accessible AWS S3 bucket.\n",
    "\n",
    "#### 2A. Load the data"
   ]
  },
  {
   "cell_type": "code",
   "execution_count": 6,
   "metadata": {},
   "outputs": [
    {
     "name": "stdout",
     "output_type": "stream",
     "text": [
      "CPU times: user 8.38 s, sys: 5.68 s, total: 14.1 s\n",
      "Wall time: 4min 1s\n"
     ]
    }
   ],
   "source": [
    "# this takes a little while...\n",
    "\n",
    "%%time\n",
    "df = pd.read_csv('https://legalhackers19.s3.amazonaws.com/CAP_compact_data.csv')"
   ]
  },
  {
   "cell_type": "markdown",
   "metadata": {},
   "source": [
    "#### 2B. The \"shape\" of the data\n",
    "\n",
    "We've loaded the case law data into a structure called a `DataFrame`. A `DataFrame` is essentially a table composed of rows and columns. "
   ]
  },
  {
   "cell_type": "code",
   "execution_count": 7,
   "metadata": {},
   "outputs": [
    {
     "data": {
      "text/plain": [
       "(52244, 5)"
      ]
     },
     "execution_count": 7,
     "metadata": {},
     "output_type": "execute_result"
    }
   ],
   "source": [
    "df.shape"
   ]
  },
  {
   "cell_type": "markdown",
   "metadata": {},
   "source": [
    "#### 2C. Take a peek at the first few rows in the data"
   ]
  },
  {
   "cell_type": "code",
   "execution_count": 8,
   "metadata": {},
   "outputs": [
    {
     "data": {
      "text/html": [
       "<div>\n",
       "<style scoped>\n",
       "    .dataframe tbody tr th:only-of-type {\n",
       "        vertical-align: middle;\n",
       "    }\n",
       "\n",
       "    .dataframe tbody tr th {\n",
       "        vertical-align: top;\n",
       "    }\n",
       "\n",
       "    .dataframe thead th {\n",
       "        text-align: right;\n",
       "    }\n",
       "</style>\n",
       "<table border=\"1\" class=\"dataframe\">\n",
       "  <thead>\n",
       "    <tr style=\"text-align: right;\">\n",
       "      <th></th>\n",
       "      <th>Unnamed: 0</th>\n",
       "      <th>Unnamed: 0.1</th>\n",
       "      <th>casename</th>\n",
       "      <th>opinion</th>\n",
       "      <th>state</th>\n",
       "    </tr>\n",
       "  </thead>\n",
       "  <tbody>\n",
       "    <tr>\n",
       "      <td>0</td>\n",
       "      <td>0</td>\n",
       "      <td>229198</td>\n",
       "      <td>DANIEL P. YORK, Plaintiff-Appellee, v. GRAND T...</td>\n",
       "      <td>Mr. JUSTICE McGLOON delivered the opinion of t...</td>\n",
       "      <td>Illinois</td>\n",
       "    </tr>\n",
       "    <tr>\n",
       "      <td>1</td>\n",
       "      <td>1</td>\n",
       "      <td>215470</td>\n",
       "      <td>Marie A. Hesse, Administratrix, Defendant in E...</td>\n",
       "      <td>Mr. Justice Barnes delivered the opinion of th...</td>\n",
       "      <td>Illinois</td>\n",
       "    </tr>\n",
       "    <tr>\n",
       "      <td>2</td>\n",
       "      <td>2</td>\n",
       "      <td>85404</td>\n",
       "      <td>THE PEOPLE OF THE STATE OF ILLINOIS, Plaintiff...</td>\n",
       "      <td>JUSTICE K1ZZI delivered the opinion of the cou...</td>\n",
       "      <td>Illinois</td>\n",
       "    </tr>\n",
       "    <tr>\n",
       "      <td>3</td>\n",
       "      <td>3</td>\n",
       "      <td>251633</td>\n",
       "      <td>STATE of New Mexico, Plaintiff-Appellee, v. La...</td>\n",
       "      <td>OPINION SOSA, Senior Justice. Defendant-appell...</td>\n",
       "      <td>New_Mexico</td>\n",
       "    </tr>\n",
       "    <tr>\n",
       "      <td>4</td>\n",
       "      <td>4</td>\n",
       "      <td>185073</td>\n",
       "      <td>Elva M. Boulter, Appellee, vs. The Joliet Nati...</td>\n",
       "      <td>Mr. Justice Dunn delivered the opinion of the ...</td>\n",
       "      <td>Illinois</td>\n",
       "    </tr>\n",
       "  </tbody>\n",
       "</table>\n",
       "</div>"
      ],
      "text/plain": [
       "   Unnamed: 0  Unnamed: 0.1  \\\n",
       "0           0        229198   \n",
       "1           1        215470   \n",
       "2           2         85404   \n",
       "3           3        251633   \n",
       "4           4        185073   \n",
       "\n",
       "                                            casename  \\\n",
       "0  DANIEL P. YORK, Plaintiff-Appellee, v. GRAND T...   \n",
       "1  Marie A. Hesse, Administratrix, Defendant in E...   \n",
       "2  THE PEOPLE OF THE STATE OF ILLINOIS, Plaintiff...   \n",
       "3  STATE of New Mexico, Plaintiff-Appellee, v. La...   \n",
       "4  Elva M. Boulter, Appellee, vs. The Joliet Nati...   \n",
       "\n",
       "                                             opinion       state  \n",
       "0  Mr. JUSTICE McGLOON delivered the opinion of t...    Illinois  \n",
       "1  Mr. Justice Barnes delivered the opinion of th...    Illinois  \n",
       "2  JUSTICE K1ZZI delivered the opinion of the cou...    Illinois  \n",
       "3  OPINION SOSA, Senior Justice. Defendant-appell...  New_Mexico  \n",
       "4  Mr. Justice Dunn delivered the opinion of the ...    Illinois  "
      ]
     },
     "execution_count": 8,
     "metadata": {},
     "output_type": "execute_result"
    }
   ],
   "source": [
    "df.head()"
   ]
  },
  {
   "cell_type": "markdown",
   "metadata": {},
   "source": [
    "#### 2D. Examine the text of one of the opinions in the dataset"
   ]
  },
  {
   "cell_type": "code",
   "execution_count": 14,
   "metadata": {},
   "outputs": [
    {
     "data": {
      "text/plain": [
       "'JUSTICE O’CONNOR delivered the opinion of the court: Petitioner Nancy Carlson obtained a judgment for dissolution of marriage, which respondent Charles Carlson moved to vacate on the grounds of unconscionability and duress. The motion was denied. Charles appeals. For the reasons below, we affirm. Charles and Nancy were married on July 16, 1977, and lived together until April of 1985, when Nancy moved to Lyons, Illinois. Charles remained at the marital residence in Berwyn, a two-flat in which the couple had lived in one apartment and rented the other. They had no children. On May 7, 1985, Nancy filed a petition for dissolution of marriage. On May 28, 1985, Nancy obtained an ex parte temporary restraining order to prevent Charles from harassing her. On August 23, 1985, Charles appeared and filed his response to the petition for dissolution. In January 1986, Nancy filed a petition for a second temporary restraining order, and on February 10, 1986, an agreed preliminary injunction was entered, restraining Charles from disposing of any property owned either jointly or solely by Nancy. Subsequently, the parties engaged in discovery and negotiations. On September 4, 1987, Nancy filed an emergency petition for relief from dissipation of marital assets from mortgage foreclosure. The petition alleged that Charles, who had been collecting rent from the marital residence since the separation, had used the rent money for personal use, had failed to make the mortgage payment on the marital residence, and that the mortgage holder, Olympic Federal, threatened foreclosure. The trial court entered an ex parte order on the petition, giving Nancy exclusive possession of the residence and the right to collect rents, and ordering Charles to vacate by September 7, 1987. Charles was also ordered to pay the overdue amount on the mortgage and make all payments necessary to stop the pending foreclosure. The order further continued contempt proceedings against Charles for violation of the order of February 10. On September 10, 1987, an oral agreement was reached after negotiations concerning the disposition of marital assets, and the parties appeared before the trial court for a proveup hearing. Both parties were present and represented by counsel. Nancy testified to the provisions of the agreement and was cross-examined. Charles testified that Nancy’s testimony concerning the provisions of the agreement was accurate and that he thought the provisions fair. The principal terms of the agreement were: (1) both parties waived maintenance; (2) Charles would sign a quitclaim deed which Nancy would accept and indemnify Charles for any claims arising from his previous ownership except utility bills; (3) Charles would sign the title of their car over to Nancy; (4) all debts except the mortgage and real estate taxes would be the debt of the party incurring it; and (5) the parties waived all right or interest to any personal property held by the other at the time of the judgment. The trial court entered the judgment for dissolution of marriage. Subsequently, a typewritten copy of the judgment was submitted to Charles’ attorney for Charles’ signature. Charles refused to sign. On November 10, 1987, Charles’ attorney moved to withdraw from the case. On December 1, 1987, the court granted the attorney’s motion to withdraw. Charles was not present at that hearing because his notice of hearing had directed him to the wrong budding. The court also entered judgment for dissolution of marriage instanter, on Nancy’s emergency motion. By his new attorney, Charles moved to vacate the judgment for dissolution. In an evidentiary hearing on the motion to vacate on March 31, 1988, Charles testified that his first attorney had presented the typed judgment for his signature on the date of a hearing on the contempt charge. Charles testified that his attorney told him that if he did not accept the agreement, he “would have to pay immediately an additional $5,000 in attorneys’ fees for the trial of this cause.” Charles testified he did not enter into the agreement voluntarily, but had agreed because he was fearful of going to jail because of the contempt proceeding that was pending. The trial court denied the motion to vacate. Charles appeals. Charles argues that there was no enforceable settlement between himself and Nancy because their oral agreement was not effectively reduced to writing and because the oral agreement was unconscionable and entered into under duress. Charles also argues that the notice of the hearing of December 1, 1987, which directed him to the wrong building, deprived him of due process. Both arguments are without merit. Charles first argues that there was no valid settlement agreement because the parties intended to reduce their oral agreement to writing, and he did not sign the written agreement presented to him by his attorney. Charles also contends that the agreement contained no provisions for credits for his payments on the mortgage, bank accounts, pensions, personal property, or the automobile. The record shows no intention by the parties to reduce the oral agreement to writing, only the intention of the parties to present a typed copy of the judgment, with the record, to the trial court. What Charles calls a written agreement was not an “agreement,” but a typed copy of the judgment. The judgment that was entered on December 1, 1987, was based on the oral agreement to which both parties had testified at the proveup hearing, and is unequivocally consistent \"with the record. Both parties testified that an oral agreement had been reached, and Nancy testified to the terms of that agreement. Charles testified that Nancy had stated the terms accurately and that they were fair. Charles also contends that the judgment was fatally incomplete, asserting that page 5 of the six-page judgment for dissolution of mar riage is missing from the record. Although page 5 does not appear in the record, Nancy’s brief was supplemented with a complete judgment. The paragraphs on page 5 specifically address the pension, personal property, which includes the bank accounts, the mortgage, and the automobile, and are supported by specific testimony from the prove-up hearing. The transcript of the proveup hearing on September 10 clearly shows that the parties reached an oral agreement which is accurately reflected in the judgment. Section 502(a) of the Illinois Marriage and Dissolution of Marriage Act (Ill. Rev. Stat. 1987, ch. 40, par 502(a)) allows oral agreements for the disposition of marital property, but Charles argues that here the oral agreement was unconscionable and that he entered it under duress. To determine whether a settlement agreement is unconscionable, the court will look to the circumstances under which the agreement was made and the relative economic positions of the parties that result. (In re Marriage of Foster (1983), 115 Ill. App. 3d 969, 751 N.E.2d 915.) Examination of the record shows that Charles freely entered into the agreement and that the terms are not so unfair as to make the agreement unconscionable. Charles further claims that the ex parte order of September 4, 1987, which granted to Nancy possession of the residence and required him to vacate, created oppressive negotiating circumstances because he did not receive the order until September 7, just three days before the oral agreement was made. But there is no reason to conclude that the order of September 4 placed Nancy in a vastly superior bargaining position. Nor is there any indication that the parties, by virtue of economic circumstances, education, experience, intellect, or access to legal counsel, were unable to negotiate at arms’ length. Although the oral agreement arose from negotiations that took place on September 10, the same day as the proveup, there is no indication that they were hasty. Further, the parties had engaged in discovery and negotiations before September 10, and Charles testified that he found the terms of the oral agreement fair. Nor is there evidence of duress. Charles contends that his attorney threatened him with additional fees, but the so-called “threat” occurred in a meeting -with the attorney after the oral agreement was made. There is no evidence at all that Charles was taken advantage of, misled, or deprived of his free will by Nancy or his own attorney. Charles also contends he feared the consequences of the contempt proceeding, but as Nancy notes, the fear of the contempt was of Charles’ own making; he faced the contempt charge regardless of his posture on the judgment. Finally, Charles argues he was deprived of due process because his notice of the hearing on December 1, 1987, sent him to the wrong building. Assuming, arguendo, that the notice did not satisfy due process standards, the error was harmless. The judgment entered on December 1, 1987, was based on the hearing of September 10, 1987, in which Charles was present and represented by counsel, and in which he testified that he agreed to the terms of the oral agreement. Charles had a second hearing on the motion to vacate the judgment. Charles had the opportunity to be heard twice, had benefit of counsel both times, and cannot successfully claim lack of notice since he was represented and participated in those hearings. Thus the proceeding on December 1, 1987, did not prejudice Charles, and any error due to defective notice of that proceeding was harmless. In summary, we find Charles’ arguments to be without merit. There was no intent to reduce the oral settlement agreement to writing, and what Charles terms the written agreement was a typed copy of the judgment. The oral agreement was not unconscionable, and there was no evidence of duress. Because Charles was afforded ample opportunity to present his case in evidentiary hearings with representation, any error that might have occurred due to defective notice was harmless. The judgment of the circuit court is affirmed. Affirmed. MANNING, P.J., and BUCKLEY, J., concur.'"
      ]
     },
     "execution_count": 14,
     "metadata": {},
     "output_type": "execute_result"
    }
   ],
   "source": [
    "df['opinion'][1234]"
   ]
  },
  {
   "cell_type": "markdown",
   "metadata": {},
   "source": [
    "#### 2E. Convert the table into a dictionary\n",
    "\n",
    "To make the data a little bit easier to work with, we're going to take a copy of the data in the DataFrame and structure is as a `dictionary`. Our dictionary is going to use the case name as the key and the text of the opinion(s) as the value. "
   ]
  },
  {
   "cell_type": "code",
   "execution_count": 10,
   "metadata": {},
   "outputs": [],
   "source": [
    "cases_dictionary = dict(zip(df['casename'], df['opinion']))"
   ]
  },
  {
   "cell_type": "code",
   "execution_count": 11,
   "metadata": {},
   "outputs": [
    {
     "data": {
      "text/plain": [
       "51607"
      ]
     },
     "execution_count": 11,
     "metadata": {},
     "output_type": "execute_result"
    }
   ],
   "source": [
    "len(cases_dictionary)"
   ]
  },
  {
   "cell_type": "markdown",
   "metadata": {},
   "source": [
    "## 3. Let's do some natural language processing!\n",
    "\n",
    "We now have a large portion of the CAP data in memory, but before we start playing with it we're going to zoom out and focus on a single sentence taken from the dataset. Here's the sentence:\n",
    "\n",
    "> Petitioner Nancy Carlson obtained a judgment for dissolution of marriage, which respondent Charles Carlson moved to vacate on the grounds of unconscionability and duress.\n",
    "\n",
    "We're going to use a phenomenally useful Python library called spaCy to do the heavy lifting. We've already loaded the model, `general_nlp`, at **1B** above. "
   ]
  },
  {
   "cell_type": "code",
   "execution_count": 17,
   "metadata": {},
   "outputs": [],
   "source": [
    "sample_text = \"\"\"Petitioner Nancy Carlson obtained a judgment for dissolution of marriage, which respondent Charles Carlson moved to vacate on the grounds of unconscionability and duress.\"\"\""
   ]
  },
  {
   "cell_type": "code",
   "execution_count": 18,
   "metadata": {},
   "outputs": [
    {
     "data": {
      "text/plain": [
       "'Petitioner Nancy Carlson obtained a judgment for dissolution of marriage, which respondent Charles Carlson moved to vacate on the grounds of unconscionability and duress.'"
      ]
     },
     "execution_count": 18,
     "metadata": {},
     "output_type": "execute_result"
    }
   ],
   "source": [
    "sample_text"
   ]
  },
  {
   "cell_type": "markdown",
   "metadata": {},
   "source": [
    "\n",
    "---\n",
    "#### A quick word about documents, sentences and er, words!\n",
    "\n",
    "Before we jump deeper into this section, it's worth saying a few words about some of the terminology and concepts that are going to come up. \n",
    "\n",
    "##### Corpus\n",
    "\n",
    "The first concept is a **Corpus**. A corpus is simply a collection of *documents*. In the current context, our corpus is the CAP data (i.e. our collection of judgments)\n",
    "\n",
    "##### Document\n",
    "\n",
    "The second concept is a **Document**. A document, for our purposes, is a collection of sentences. In the current context, a document is a single judgment.\n",
    "\n",
    "##### Sentence\n",
    "\n",
    "The third concept is a **Sentence**. A sentence is a series of words and punctuation marks, *tokens*, arranged in an order that (hopefully) makes grammatical sense. In the current context, our sentence is:\n",
    "\n",
    "> Petitioner Nancy Carlson obtained a judgment for dissolution of marriage, which respondent Charles Carlson moved to vacate on the grounds of unconscionability and duress.\n",
    "\n",
    "##### Token\n",
    "\n",
    "The final concept is the weird one: **Tokens**. A token is a single word or punctuation mark. So **>dissolution of marriage,<** consists of four tokens: `dissolution`, `of`, `marriage` and `,`.\n",
    "\n",
    "\n",
    "\n",
    "\n"
   ]
  },
  {
   "cell_type": "markdown",
   "metadata": {},
   "source": [
    "<img src=\"https://legalhackers19.s3.amazonaws.com/Units_of_text.png\">"
   ]
  },
  {
   "cell_type": "markdown",
   "metadata": {},
   "source": [
    "#### 3A. Apply the model to the sample sentence\n",
    "\n",
    "First, we apply our the `general_nlp` model to the sample sentence."
   ]
  },
  {
   "cell_type": "code",
   "execution_count": 19,
   "metadata": {},
   "outputs": [],
   "source": [
    "doc = general_nlp(sample_text)"
   ]
  },
  {
   "cell_type": "code",
   "execution_count": 20,
   "metadata": {},
   "outputs": [
    {
     "data": {
      "text/plain": [
       "Petitioner Nancy Carlson obtained a judgment for dissolution of marriage, which respondent Charles Carlson moved to vacate on the grounds of unconscionability and duress."
      ]
     },
     "execution_count": 20,
     "metadata": {},
     "output_type": "execute_result"
    }
   ],
   "source": [
    "doc"
   ]
  },
  {
   "cell_type": "markdown",
   "metadata": {},
   "source": [
    "#### 3B. Tokenization (or \"Tokenisation\" on the other side of the Atlantic)\n",
    "\n"
   ]
  },
  {
   "cell_type": "code",
   "execution_count": 37,
   "metadata": {},
   "outputs": [
    {
     "name": "stdout",
     "output_type": "stream",
     "text": [
      "Token                                 POS \n",
      "-----------------------------------------\n",
      "Petitioner                          PROPN \n",
      "Nancy                               PROPN \n",
      "Carlson                             PROPN \n",
      "obtained                             VERB \n",
      "a                                     DET \n",
      "judgment                             NOUN \n",
      "for                                   ADP \n",
      "dissolution                          NOUN \n",
      "of                                    ADP \n",
      "marriage                             NOUN \n",
      ",                                   PUNCT \n",
      "which                                 DET \n",
      "respondent                           NOUN \n",
      "Charles                             PROPN \n",
      "Carlson                             PROPN \n",
      "moved                                VERB \n",
      "to                                   PART \n",
      "vacate                               NOUN \n",
      "on                                    ADP \n",
      "the                                   DET \n",
      "grounds                              NOUN \n",
      "of                                    ADP \n",
      "unconscionability                    NOUN \n",
      "and                                 CCONJ \n",
      "duress                               NOUN \n",
      ".                                   PUNCT \n"
     ]
    }
   ],
   "source": [
    "print(\"{0:<20} {1:>20} \".format(\"Token\", \"POS\"))\n",
    "print(\"-----------------------------------------\")\n",
    "for token in doc:\n",
    "    print(\"{0:<20} {1:>20} \".format(token.text, token.pos_))"
   ]
  },
  {
   "cell_type": "markdown",
   "metadata": {},
   "source": [
    "#### Nouns"
   ]
  },
  {
   "cell_type": "code",
   "execution_count": 36,
   "metadata": {},
   "outputs": [
    {
     "name": "stdout",
     "output_type": "stream",
     "text": [
      "Token                                 POS \n",
      "-----------------------------------------\n",
      "judgment                             NOUN \n",
      "dissolution                          NOUN \n",
      "marriage                             NOUN \n",
      "respondent                           NOUN \n",
      "vacate                               NOUN \n",
      "grounds                              NOUN \n",
      "unconscionability                    NOUN \n",
      "duress                               NOUN \n"
     ]
    }
   ],
   "source": [
    "print(\"{0:<20} {1:>20} \".format(\"Token\", \"POS\"))\n",
    "print(\"-----------------------------------------\")\n",
    "for token in doc:\n",
    "    if token.pos_ == \"NOUN\":\n",
    "        print(\"{0:<20} {1:>20} \".format(token.text, token.pos_))"
   ]
  },
  {
   "cell_type": "markdown",
   "metadata": {},
   "source": [
    "#### Verbs"
   ]
  },
  {
   "cell_type": "code",
   "execution_count": 38,
   "metadata": {},
   "outputs": [
    {
     "name": "stdout",
     "output_type": "stream",
     "text": [
      "Token                                 POS \n",
      "-----------------------------------------\n",
      "obtained                             VERB \n",
      "moved                                VERB \n"
     ]
    }
   ],
   "source": [
    "print(\"{0:<20} {1:>20} \".format(\"Token\", \"POS\"))\n",
    "print(\"-----------------------------------------\")\n",
    "for token in doc:\n",
    "    if token.pos_ == \"VERB\":\n",
    "        print(\"{0:<20} {1:>20} \".format(token.text, token.pos_))"
   ]
  },
  {
   "cell_type": "markdown",
   "metadata": {},
   "source": [
    "#### Proper Nouns"
   ]
  },
  {
   "cell_type": "code",
   "execution_count": 35,
   "metadata": {},
   "outputs": [
    {
     "name": "stdout",
     "output_type": "stream",
     "text": [
      "Token                                 POS \n",
      "-----------------------------------------\n",
      "Petitioner                          PROPN \n",
      "Nancy                               PROPN \n",
      "Carlson                             PROPN \n",
      "Charles                             PROPN \n",
      "Carlson                             PROPN \n"
     ]
    }
   ],
   "source": [
    "print(\"{0:<20} {1:>20} \".format(\"Token\", \"POS\"))\n",
    "print(\"-----------------------------------------\")\n",
    "for token in doc:\n",
    "    if token.pos_ == \"PROPN\":\n",
    "        print(\"{0:<20} {1:>20} \".format(token.text, token.pos_))"
   ]
  },
  {
   "cell_type": "markdown",
   "metadata": {},
   "source": [
    "#### Visualising syntactic dependencies in the sentence\n",
    "\n",
    "https://universaldependencies.org/"
   ]
  },
  {
   "cell_type": "code",
   "execution_count": 41,
   "metadata": {},
   "outputs": [
    {
     "data": {
      "text/html": [
       "<svg xmlns=\"http://www.w3.org/2000/svg\" xmlns:xlink=\"http://www.w3.org/1999/xlink\" xml:lang=\"en\" id=\"a271bb260769473ca3080381e15ad9f5-0\" class=\"displacy\" width=\"4250\" height=\"487.0\" direction=\"ltr\" style=\"max-width: none; height: 487.0px; color: #000000; background: #ffffff; font-family: Arial; direction: ltr\">\n",
       "<text class=\"displacy-token\" fill=\"currentColor\" text-anchor=\"middle\" y=\"397.0\">\n",
       "    <tspan class=\"displacy-word\" fill=\"currentColor\" x=\"50\">Petitioner</tspan>\n",
       "    <tspan class=\"displacy-tag\" dy=\"2em\" fill=\"currentColor\" x=\"50\">PROPN</tspan>\n",
       "</text>\n",
       "\n",
       "<text class=\"displacy-token\" fill=\"currentColor\" text-anchor=\"middle\" y=\"397.0\">\n",
       "    <tspan class=\"displacy-word\" fill=\"currentColor\" x=\"225\">Nancy</tspan>\n",
       "    <tspan class=\"displacy-tag\" dy=\"2em\" fill=\"currentColor\" x=\"225\">PROPN</tspan>\n",
       "</text>\n",
       "\n",
       "<text class=\"displacy-token\" fill=\"currentColor\" text-anchor=\"middle\" y=\"397.0\">\n",
       "    <tspan class=\"displacy-word\" fill=\"currentColor\" x=\"400\">Carlson</tspan>\n",
       "    <tspan class=\"displacy-tag\" dy=\"2em\" fill=\"currentColor\" x=\"400\">PROPN</tspan>\n",
       "</text>\n",
       "\n",
       "<text class=\"displacy-token\" fill=\"currentColor\" text-anchor=\"middle\" y=\"397.0\">\n",
       "    <tspan class=\"displacy-word\" fill=\"currentColor\" x=\"575\">obtained</tspan>\n",
       "    <tspan class=\"displacy-tag\" dy=\"2em\" fill=\"currentColor\" x=\"575\">VERB</tspan>\n",
       "</text>\n",
       "\n",
       "<text class=\"displacy-token\" fill=\"currentColor\" text-anchor=\"middle\" y=\"397.0\">\n",
       "    <tspan class=\"displacy-word\" fill=\"currentColor\" x=\"750\">a</tspan>\n",
       "    <tspan class=\"displacy-tag\" dy=\"2em\" fill=\"currentColor\" x=\"750\">DET</tspan>\n",
       "</text>\n",
       "\n",
       "<text class=\"displacy-token\" fill=\"currentColor\" text-anchor=\"middle\" y=\"397.0\">\n",
       "    <tspan class=\"displacy-word\" fill=\"currentColor\" x=\"925\">judgment</tspan>\n",
       "    <tspan class=\"displacy-tag\" dy=\"2em\" fill=\"currentColor\" x=\"925\">NOUN</tspan>\n",
       "</text>\n",
       "\n",
       "<text class=\"displacy-token\" fill=\"currentColor\" text-anchor=\"middle\" y=\"397.0\">\n",
       "    <tspan class=\"displacy-word\" fill=\"currentColor\" x=\"1100\">for</tspan>\n",
       "    <tspan class=\"displacy-tag\" dy=\"2em\" fill=\"currentColor\" x=\"1100\">ADP</tspan>\n",
       "</text>\n",
       "\n",
       "<text class=\"displacy-token\" fill=\"currentColor\" text-anchor=\"middle\" y=\"397.0\">\n",
       "    <tspan class=\"displacy-word\" fill=\"currentColor\" x=\"1275\">dissolution</tspan>\n",
       "    <tspan class=\"displacy-tag\" dy=\"2em\" fill=\"currentColor\" x=\"1275\">NOUN</tspan>\n",
       "</text>\n",
       "\n",
       "<text class=\"displacy-token\" fill=\"currentColor\" text-anchor=\"middle\" y=\"397.0\">\n",
       "    <tspan class=\"displacy-word\" fill=\"currentColor\" x=\"1450\">of</tspan>\n",
       "    <tspan class=\"displacy-tag\" dy=\"2em\" fill=\"currentColor\" x=\"1450\">ADP</tspan>\n",
       "</text>\n",
       "\n",
       "<text class=\"displacy-token\" fill=\"currentColor\" text-anchor=\"middle\" y=\"397.0\">\n",
       "    <tspan class=\"displacy-word\" fill=\"currentColor\" x=\"1625\">marriage,</tspan>\n",
       "    <tspan class=\"displacy-tag\" dy=\"2em\" fill=\"currentColor\" x=\"1625\">NOUN</tspan>\n",
       "</text>\n",
       "\n",
       "<text class=\"displacy-token\" fill=\"currentColor\" text-anchor=\"middle\" y=\"397.0\">\n",
       "    <tspan class=\"displacy-word\" fill=\"currentColor\" x=\"1800\">which</tspan>\n",
       "    <tspan class=\"displacy-tag\" dy=\"2em\" fill=\"currentColor\" x=\"1800\">DET</tspan>\n",
       "</text>\n",
       "\n",
       "<text class=\"displacy-token\" fill=\"currentColor\" text-anchor=\"middle\" y=\"397.0\">\n",
       "    <tspan class=\"displacy-word\" fill=\"currentColor\" x=\"1975\">respondent</tspan>\n",
       "    <tspan class=\"displacy-tag\" dy=\"2em\" fill=\"currentColor\" x=\"1975\">NOUN</tspan>\n",
       "</text>\n",
       "\n",
       "<text class=\"displacy-token\" fill=\"currentColor\" text-anchor=\"middle\" y=\"397.0\">\n",
       "    <tspan class=\"displacy-word\" fill=\"currentColor\" x=\"2150\">Charles</tspan>\n",
       "    <tspan class=\"displacy-tag\" dy=\"2em\" fill=\"currentColor\" x=\"2150\">PROPN</tspan>\n",
       "</text>\n",
       "\n",
       "<text class=\"displacy-token\" fill=\"currentColor\" text-anchor=\"middle\" y=\"397.0\">\n",
       "    <tspan class=\"displacy-word\" fill=\"currentColor\" x=\"2325\">Carlson</tspan>\n",
       "    <tspan class=\"displacy-tag\" dy=\"2em\" fill=\"currentColor\" x=\"2325\">PROPN</tspan>\n",
       "</text>\n",
       "\n",
       "<text class=\"displacy-token\" fill=\"currentColor\" text-anchor=\"middle\" y=\"397.0\">\n",
       "    <tspan class=\"displacy-word\" fill=\"currentColor\" x=\"2500\">moved</tspan>\n",
       "    <tspan class=\"displacy-tag\" dy=\"2em\" fill=\"currentColor\" x=\"2500\">VERB</tspan>\n",
       "</text>\n",
       "\n",
       "<text class=\"displacy-token\" fill=\"currentColor\" text-anchor=\"middle\" y=\"397.0\">\n",
       "    <tspan class=\"displacy-word\" fill=\"currentColor\" x=\"2675\">to</tspan>\n",
       "    <tspan class=\"displacy-tag\" dy=\"2em\" fill=\"currentColor\" x=\"2675\">PART</tspan>\n",
       "</text>\n",
       "\n",
       "<text class=\"displacy-token\" fill=\"currentColor\" text-anchor=\"middle\" y=\"397.0\">\n",
       "    <tspan class=\"displacy-word\" fill=\"currentColor\" x=\"2850\">vacate</tspan>\n",
       "    <tspan class=\"displacy-tag\" dy=\"2em\" fill=\"currentColor\" x=\"2850\">NOUN</tspan>\n",
       "</text>\n",
       "\n",
       "<text class=\"displacy-token\" fill=\"currentColor\" text-anchor=\"middle\" y=\"397.0\">\n",
       "    <tspan class=\"displacy-word\" fill=\"currentColor\" x=\"3025\">on</tspan>\n",
       "    <tspan class=\"displacy-tag\" dy=\"2em\" fill=\"currentColor\" x=\"3025\">ADP</tspan>\n",
       "</text>\n",
       "\n",
       "<text class=\"displacy-token\" fill=\"currentColor\" text-anchor=\"middle\" y=\"397.0\">\n",
       "    <tspan class=\"displacy-word\" fill=\"currentColor\" x=\"3200\">the</tspan>\n",
       "    <tspan class=\"displacy-tag\" dy=\"2em\" fill=\"currentColor\" x=\"3200\">DET</tspan>\n",
       "</text>\n",
       "\n",
       "<text class=\"displacy-token\" fill=\"currentColor\" text-anchor=\"middle\" y=\"397.0\">\n",
       "    <tspan class=\"displacy-word\" fill=\"currentColor\" x=\"3375\">grounds</tspan>\n",
       "    <tspan class=\"displacy-tag\" dy=\"2em\" fill=\"currentColor\" x=\"3375\">NOUN</tspan>\n",
       "</text>\n",
       "\n",
       "<text class=\"displacy-token\" fill=\"currentColor\" text-anchor=\"middle\" y=\"397.0\">\n",
       "    <tspan class=\"displacy-word\" fill=\"currentColor\" x=\"3550\">of</tspan>\n",
       "    <tspan class=\"displacy-tag\" dy=\"2em\" fill=\"currentColor\" x=\"3550\">ADP</tspan>\n",
       "</text>\n",
       "\n",
       "<text class=\"displacy-token\" fill=\"currentColor\" text-anchor=\"middle\" y=\"397.0\">\n",
       "    <tspan class=\"displacy-word\" fill=\"currentColor\" x=\"3725\">unconscionability</tspan>\n",
       "    <tspan class=\"displacy-tag\" dy=\"2em\" fill=\"currentColor\" x=\"3725\">NOUN</tspan>\n",
       "</text>\n",
       "\n",
       "<text class=\"displacy-token\" fill=\"currentColor\" text-anchor=\"middle\" y=\"397.0\">\n",
       "    <tspan class=\"displacy-word\" fill=\"currentColor\" x=\"3900\">and</tspan>\n",
       "    <tspan class=\"displacy-tag\" dy=\"2em\" fill=\"currentColor\" x=\"3900\">CCONJ</tspan>\n",
       "</text>\n",
       "\n",
       "<text class=\"displacy-token\" fill=\"currentColor\" text-anchor=\"middle\" y=\"397.0\">\n",
       "    <tspan class=\"displacy-word\" fill=\"currentColor\" x=\"4075\">duress.</tspan>\n",
       "    <tspan class=\"displacy-tag\" dy=\"2em\" fill=\"currentColor\" x=\"4075\">NOUN</tspan>\n",
       "</text>\n",
       "\n",
       "<g class=\"displacy-arrow\">\n",
       "    <path class=\"displacy-arc\" id=\"arrow-a271bb260769473ca3080381e15ad9f5-0-0\" stroke-width=\"2px\" d=\"M70,352.0 C70,177.0 390.0,177.0 390.0,352.0\" fill=\"none\" stroke=\"currentColor\"/>\n",
       "    <text dy=\"1.25em\" style=\"font-size: 0.8em; letter-spacing: 1px\">\n",
       "        <textPath xlink:href=\"#arrow-a271bb260769473ca3080381e15ad9f5-0-0\" class=\"displacy-label\" startOffset=\"50%\" side=\"left\" fill=\"currentColor\" text-anchor=\"middle\">compound</textPath>\n",
       "    </text>\n",
       "    <path class=\"displacy-arrowhead\" d=\"M70,354.0 L62,342.0 78,342.0\" fill=\"currentColor\"/>\n",
       "</g>\n",
       "\n",
       "<g class=\"displacy-arrow\">\n",
       "    <path class=\"displacy-arc\" id=\"arrow-a271bb260769473ca3080381e15ad9f5-0-1\" stroke-width=\"2px\" d=\"M245,352.0 C245,264.5 385.0,264.5 385.0,352.0\" fill=\"none\" stroke=\"currentColor\"/>\n",
       "    <text dy=\"1.25em\" style=\"font-size: 0.8em; letter-spacing: 1px\">\n",
       "        <textPath xlink:href=\"#arrow-a271bb260769473ca3080381e15ad9f5-0-1\" class=\"displacy-label\" startOffset=\"50%\" side=\"left\" fill=\"currentColor\" text-anchor=\"middle\">compound</textPath>\n",
       "    </text>\n",
       "    <path class=\"displacy-arrowhead\" d=\"M245,354.0 L237,342.0 253,342.0\" fill=\"currentColor\"/>\n",
       "</g>\n",
       "\n",
       "<g class=\"displacy-arrow\">\n",
       "    <path class=\"displacy-arc\" id=\"arrow-a271bb260769473ca3080381e15ad9f5-0-2\" stroke-width=\"2px\" d=\"M420,352.0 C420,264.5 560.0,264.5 560.0,352.0\" fill=\"none\" stroke=\"currentColor\"/>\n",
       "    <text dy=\"1.25em\" style=\"font-size: 0.8em; letter-spacing: 1px\">\n",
       "        <textPath xlink:href=\"#arrow-a271bb260769473ca3080381e15ad9f5-0-2\" class=\"displacy-label\" startOffset=\"50%\" side=\"left\" fill=\"currentColor\" text-anchor=\"middle\">nsubj</textPath>\n",
       "    </text>\n",
       "    <path class=\"displacy-arrowhead\" d=\"M420,354.0 L412,342.0 428,342.0\" fill=\"currentColor\"/>\n",
       "</g>\n",
       "\n",
       "<g class=\"displacy-arrow\">\n",
       "    <path class=\"displacy-arc\" id=\"arrow-a271bb260769473ca3080381e15ad9f5-0-3\" stroke-width=\"2px\" d=\"M770,352.0 C770,264.5 910.0,264.5 910.0,352.0\" fill=\"none\" stroke=\"currentColor\"/>\n",
       "    <text dy=\"1.25em\" style=\"font-size: 0.8em; letter-spacing: 1px\">\n",
       "        <textPath xlink:href=\"#arrow-a271bb260769473ca3080381e15ad9f5-0-3\" class=\"displacy-label\" startOffset=\"50%\" side=\"left\" fill=\"currentColor\" text-anchor=\"middle\">det</textPath>\n",
       "    </text>\n",
       "    <path class=\"displacy-arrowhead\" d=\"M770,354.0 L762,342.0 778,342.0\" fill=\"currentColor\"/>\n",
       "</g>\n",
       "\n",
       "<g class=\"displacy-arrow\">\n",
       "    <path class=\"displacy-arc\" id=\"arrow-a271bb260769473ca3080381e15ad9f5-0-4\" stroke-width=\"2px\" d=\"M595,352.0 C595,177.0 915.0,177.0 915.0,352.0\" fill=\"none\" stroke=\"currentColor\"/>\n",
       "    <text dy=\"1.25em\" style=\"font-size: 0.8em; letter-spacing: 1px\">\n",
       "        <textPath xlink:href=\"#arrow-a271bb260769473ca3080381e15ad9f5-0-4\" class=\"displacy-label\" startOffset=\"50%\" side=\"left\" fill=\"currentColor\" text-anchor=\"middle\">dobj</textPath>\n",
       "    </text>\n",
       "    <path class=\"displacy-arrowhead\" d=\"M915.0,354.0 L923.0,342.0 907.0,342.0\" fill=\"currentColor\"/>\n",
       "</g>\n",
       "\n",
       "<g class=\"displacy-arrow\">\n",
       "    <path class=\"displacy-arc\" id=\"arrow-a271bb260769473ca3080381e15ad9f5-0-5\" stroke-width=\"2px\" d=\"M945,352.0 C945,264.5 1085.0,264.5 1085.0,352.0\" fill=\"none\" stroke=\"currentColor\"/>\n",
       "    <text dy=\"1.25em\" style=\"font-size: 0.8em; letter-spacing: 1px\">\n",
       "        <textPath xlink:href=\"#arrow-a271bb260769473ca3080381e15ad9f5-0-5\" class=\"displacy-label\" startOffset=\"50%\" side=\"left\" fill=\"currentColor\" text-anchor=\"middle\">prep</textPath>\n",
       "    </text>\n",
       "    <path class=\"displacy-arrowhead\" d=\"M1085.0,354.0 L1093.0,342.0 1077.0,342.0\" fill=\"currentColor\"/>\n",
       "</g>\n",
       "\n",
       "<g class=\"displacy-arrow\">\n",
       "    <path class=\"displacy-arc\" id=\"arrow-a271bb260769473ca3080381e15ad9f5-0-6\" stroke-width=\"2px\" d=\"M1120,352.0 C1120,264.5 1260.0,264.5 1260.0,352.0\" fill=\"none\" stroke=\"currentColor\"/>\n",
       "    <text dy=\"1.25em\" style=\"font-size: 0.8em; letter-spacing: 1px\">\n",
       "        <textPath xlink:href=\"#arrow-a271bb260769473ca3080381e15ad9f5-0-6\" class=\"displacy-label\" startOffset=\"50%\" side=\"left\" fill=\"currentColor\" text-anchor=\"middle\">pobj</textPath>\n",
       "    </text>\n",
       "    <path class=\"displacy-arrowhead\" d=\"M1260.0,354.0 L1268.0,342.0 1252.0,342.0\" fill=\"currentColor\"/>\n",
       "</g>\n",
       "\n",
       "<g class=\"displacy-arrow\">\n",
       "    <path class=\"displacy-arc\" id=\"arrow-a271bb260769473ca3080381e15ad9f5-0-7\" stroke-width=\"2px\" d=\"M1295,352.0 C1295,264.5 1435.0,264.5 1435.0,352.0\" fill=\"none\" stroke=\"currentColor\"/>\n",
       "    <text dy=\"1.25em\" style=\"font-size: 0.8em; letter-spacing: 1px\">\n",
       "        <textPath xlink:href=\"#arrow-a271bb260769473ca3080381e15ad9f5-0-7\" class=\"displacy-label\" startOffset=\"50%\" side=\"left\" fill=\"currentColor\" text-anchor=\"middle\">prep</textPath>\n",
       "    </text>\n",
       "    <path class=\"displacy-arrowhead\" d=\"M1435.0,354.0 L1443.0,342.0 1427.0,342.0\" fill=\"currentColor\"/>\n",
       "</g>\n",
       "\n",
       "<g class=\"displacy-arrow\">\n",
       "    <path class=\"displacy-arc\" id=\"arrow-a271bb260769473ca3080381e15ad9f5-0-8\" stroke-width=\"2px\" d=\"M1470,352.0 C1470,264.5 1610.0,264.5 1610.0,352.0\" fill=\"none\" stroke=\"currentColor\"/>\n",
       "    <text dy=\"1.25em\" style=\"font-size: 0.8em; letter-spacing: 1px\">\n",
       "        <textPath xlink:href=\"#arrow-a271bb260769473ca3080381e15ad9f5-0-8\" class=\"displacy-label\" startOffset=\"50%\" side=\"left\" fill=\"currentColor\" text-anchor=\"middle\">pobj</textPath>\n",
       "    </text>\n",
       "    <path class=\"displacy-arrowhead\" d=\"M1610.0,354.0 L1618.0,342.0 1602.0,342.0\" fill=\"currentColor\"/>\n",
       "</g>\n",
       "\n",
       "<g class=\"displacy-arrow\">\n",
       "    <path class=\"displacy-arc\" id=\"arrow-a271bb260769473ca3080381e15ad9f5-0-9\" stroke-width=\"2px\" d=\"M1820,352.0 C1820,89.5 2495.0,89.5 2495.0,352.0\" fill=\"none\" stroke=\"currentColor\"/>\n",
       "    <text dy=\"1.25em\" style=\"font-size: 0.8em; letter-spacing: 1px\">\n",
       "        <textPath xlink:href=\"#arrow-a271bb260769473ca3080381e15ad9f5-0-9\" class=\"displacy-label\" startOffset=\"50%\" side=\"left\" fill=\"currentColor\" text-anchor=\"middle\">dobj</textPath>\n",
       "    </text>\n",
       "    <path class=\"displacy-arrowhead\" d=\"M1820,354.0 L1812,342.0 1828,342.0\" fill=\"currentColor\"/>\n",
       "</g>\n",
       "\n",
       "<g class=\"displacy-arrow\">\n",
       "    <path class=\"displacy-arc\" id=\"arrow-a271bb260769473ca3080381e15ad9f5-0-10\" stroke-width=\"2px\" d=\"M1995,352.0 C1995,177.0 2315.0,177.0 2315.0,352.0\" fill=\"none\" stroke=\"currentColor\"/>\n",
       "    <text dy=\"1.25em\" style=\"font-size: 0.8em; letter-spacing: 1px\">\n",
       "        <textPath xlink:href=\"#arrow-a271bb260769473ca3080381e15ad9f5-0-10\" class=\"displacy-label\" startOffset=\"50%\" side=\"left\" fill=\"currentColor\" text-anchor=\"middle\">compound</textPath>\n",
       "    </text>\n",
       "    <path class=\"displacy-arrowhead\" d=\"M1995,354.0 L1987,342.0 2003,342.0\" fill=\"currentColor\"/>\n",
       "</g>\n",
       "\n",
       "<g class=\"displacy-arrow\">\n",
       "    <path class=\"displacy-arc\" id=\"arrow-a271bb260769473ca3080381e15ad9f5-0-11\" stroke-width=\"2px\" d=\"M2170,352.0 C2170,264.5 2310.0,264.5 2310.0,352.0\" fill=\"none\" stroke=\"currentColor\"/>\n",
       "    <text dy=\"1.25em\" style=\"font-size: 0.8em; letter-spacing: 1px\">\n",
       "        <textPath xlink:href=\"#arrow-a271bb260769473ca3080381e15ad9f5-0-11\" class=\"displacy-label\" startOffset=\"50%\" side=\"left\" fill=\"currentColor\" text-anchor=\"middle\">compound</textPath>\n",
       "    </text>\n",
       "    <path class=\"displacy-arrowhead\" d=\"M2170,354.0 L2162,342.0 2178,342.0\" fill=\"currentColor\"/>\n",
       "</g>\n",
       "\n",
       "<g class=\"displacy-arrow\">\n",
       "    <path class=\"displacy-arc\" id=\"arrow-a271bb260769473ca3080381e15ad9f5-0-12\" stroke-width=\"2px\" d=\"M2345,352.0 C2345,264.5 2485.0,264.5 2485.0,352.0\" fill=\"none\" stroke=\"currentColor\"/>\n",
       "    <text dy=\"1.25em\" style=\"font-size: 0.8em; letter-spacing: 1px\">\n",
       "        <textPath xlink:href=\"#arrow-a271bb260769473ca3080381e15ad9f5-0-12\" class=\"displacy-label\" startOffset=\"50%\" side=\"left\" fill=\"currentColor\" text-anchor=\"middle\">nsubj</textPath>\n",
       "    </text>\n",
       "    <path class=\"displacy-arrowhead\" d=\"M2345,354.0 L2337,342.0 2353,342.0\" fill=\"currentColor\"/>\n",
       "</g>\n",
       "\n",
       "<g class=\"displacy-arrow\">\n",
       "    <path class=\"displacy-arc\" id=\"arrow-a271bb260769473ca3080381e15ad9f5-0-13\" stroke-width=\"2px\" d=\"M1295,352.0 C1295,2.0 2500.0,2.0 2500.0,352.0\" fill=\"none\" stroke=\"currentColor\"/>\n",
       "    <text dy=\"1.25em\" style=\"font-size: 0.8em; letter-spacing: 1px\">\n",
       "        <textPath xlink:href=\"#arrow-a271bb260769473ca3080381e15ad9f5-0-13\" class=\"displacy-label\" startOffset=\"50%\" side=\"left\" fill=\"currentColor\" text-anchor=\"middle\">relcl</textPath>\n",
       "    </text>\n",
       "    <path class=\"displacy-arrowhead\" d=\"M2500.0,354.0 L2508.0,342.0 2492.0,342.0\" fill=\"currentColor\"/>\n",
       "</g>\n",
       "\n",
       "<g class=\"displacy-arrow\">\n",
       "    <path class=\"displacy-arc\" id=\"arrow-a271bb260769473ca3080381e15ad9f5-0-14\" stroke-width=\"2px\" d=\"M2695,352.0 C2695,264.5 2835.0,264.5 2835.0,352.0\" fill=\"none\" stroke=\"currentColor\"/>\n",
       "    <text dy=\"1.25em\" style=\"font-size: 0.8em; letter-spacing: 1px\">\n",
       "        <textPath xlink:href=\"#arrow-a271bb260769473ca3080381e15ad9f5-0-14\" class=\"displacy-label\" startOffset=\"50%\" side=\"left\" fill=\"currentColor\" text-anchor=\"middle\">aux</textPath>\n",
       "    </text>\n",
       "    <path class=\"displacy-arrowhead\" d=\"M2695,354.0 L2687,342.0 2703,342.0\" fill=\"currentColor\"/>\n",
       "</g>\n",
       "\n",
       "<g class=\"displacy-arrow\">\n",
       "    <path class=\"displacy-arc\" id=\"arrow-a271bb260769473ca3080381e15ad9f5-0-15\" stroke-width=\"2px\" d=\"M2520,352.0 C2520,177.0 2840.0,177.0 2840.0,352.0\" fill=\"none\" stroke=\"currentColor\"/>\n",
       "    <text dy=\"1.25em\" style=\"font-size: 0.8em; letter-spacing: 1px\">\n",
       "        <textPath xlink:href=\"#arrow-a271bb260769473ca3080381e15ad9f5-0-15\" class=\"displacy-label\" startOffset=\"50%\" side=\"left\" fill=\"currentColor\" text-anchor=\"middle\">xcomp</textPath>\n",
       "    </text>\n",
       "    <path class=\"displacy-arrowhead\" d=\"M2840.0,354.0 L2848.0,342.0 2832.0,342.0\" fill=\"currentColor\"/>\n",
       "</g>\n",
       "\n",
       "<g class=\"displacy-arrow\">\n",
       "    <path class=\"displacy-arc\" id=\"arrow-a271bb260769473ca3080381e15ad9f5-0-16\" stroke-width=\"2px\" d=\"M2870,352.0 C2870,264.5 3010.0,264.5 3010.0,352.0\" fill=\"none\" stroke=\"currentColor\"/>\n",
       "    <text dy=\"1.25em\" style=\"font-size: 0.8em; letter-spacing: 1px\">\n",
       "        <textPath xlink:href=\"#arrow-a271bb260769473ca3080381e15ad9f5-0-16\" class=\"displacy-label\" startOffset=\"50%\" side=\"left\" fill=\"currentColor\" text-anchor=\"middle\">prep</textPath>\n",
       "    </text>\n",
       "    <path class=\"displacy-arrowhead\" d=\"M3010.0,354.0 L3018.0,342.0 3002.0,342.0\" fill=\"currentColor\"/>\n",
       "</g>\n",
       "\n",
       "<g class=\"displacy-arrow\">\n",
       "    <path class=\"displacy-arc\" id=\"arrow-a271bb260769473ca3080381e15ad9f5-0-17\" stroke-width=\"2px\" d=\"M3220,352.0 C3220,264.5 3360.0,264.5 3360.0,352.0\" fill=\"none\" stroke=\"currentColor\"/>\n",
       "    <text dy=\"1.25em\" style=\"font-size: 0.8em; letter-spacing: 1px\">\n",
       "        <textPath xlink:href=\"#arrow-a271bb260769473ca3080381e15ad9f5-0-17\" class=\"displacy-label\" startOffset=\"50%\" side=\"left\" fill=\"currentColor\" text-anchor=\"middle\">det</textPath>\n",
       "    </text>\n",
       "    <path class=\"displacy-arrowhead\" d=\"M3220,354.0 L3212,342.0 3228,342.0\" fill=\"currentColor\"/>\n",
       "</g>\n",
       "\n",
       "<g class=\"displacy-arrow\">\n",
       "    <path class=\"displacy-arc\" id=\"arrow-a271bb260769473ca3080381e15ad9f5-0-18\" stroke-width=\"2px\" d=\"M3045,352.0 C3045,177.0 3365.0,177.0 3365.0,352.0\" fill=\"none\" stroke=\"currentColor\"/>\n",
       "    <text dy=\"1.25em\" style=\"font-size: 0.8em; letter-spacing: 1px\">\n",
       "        <textPath xlink:href=\"#arrow-a271bb260769473ca3080381e15ad9f5-0-18\" class=\"displacy-label\" startOffset=\"50%\" side=\"left\" fill=\"currentColor\" text-anchor=\"middle\">pobj</textPath>\n",
       "    </text>\n",
       "    <path class=\"displacy-arrowhead\" d=\"M3365.0,354.0 L3373.0,342.0 3357.0,342.0\" fill=\"currentColor\"/>\n",
       "</g>\n",
       "\n",
       "<g class=\"displacy-arrow\">\n",
       "    <path class=\"displacy-arc\" id=\"arrow-a271bb260769473ca3080381e15ad9f5-0-19\" stroke-width=\"2px\" d=\"M3395,352.0 C3395,264.5 3535.0,264.5 3535.0,352.0\" fill=\"none\" stroke=\"currentColor\"/>\n",
       "    <text dy=\"1.25em\" style=\"font-size: 0.8em; letter-spacing: 1px\">\n",
       "        <textPath xlink:href=\"#arrow-a271bb260769473ca3080381e15ad9f5-0-19\" class=\"displacy-label\" startOffset=\"50%\" side=\"left\" fill=\"currentColor\" text-anchor=\"middle\">prep</textPath>\n",
       "    </text>\n",
       "    <path class=\"displacy-arrowhead\" d=\"M3535.0,354.0 L3543.0,342.0 3527.0,342.0\" fill=\"currentColor\"/>\n",
       "</g>\n",
       "\n",
       "<g class=\"displacy-arrow\">\n",
       "    <path class=\"displacy-arc\" id=\"arrow-a271bb260769473ca3080381e15ad9f5-0-20\" stroke-width=\"2px\" d=\"M3570,352.0 C3570,264.5 3710.0,264.5 3710.0,352.0\" fill=\"none\" stroke=\"currentColor\"/>\n",
       "    <text dy=\"1.25em\" style=\"font-size: 0.8em; letter-spacing: 1px\">\n",
       "        <textPath xlink:href=\"#arrow-a271bb260769473ca3080381e15ad9f5-0-20\" class=\"displacy-label\" startOffset=\"50%\" side=\"left\" fill=\"currentColor\" text-anchor=\"middle\">pobj</textPath>\n",
       "    </text>\n",
       "    <path class=\"displacy-arrowhead\" d=\"M3710.0,354.0 L3718.0,342.0 3702.0,342.0\" fill=\"currentColor\"/>\n",
       "</g>\n",
       "\n",
       "<g class=\"displacy-arrow\">\n",
       "    <path class=\"displacy-arc\" id=\"arrow-a271bb260769473ca3080381e15ad9f5-0-21\" stroke-width=\"2px\" d=\"M3745,352.0 C3745,264.5 3885.0,264.5 3885.0,352.0\" fill=\"none\" stroke=\"currentColor\"/>\n",
       "    <text dy=\"1.25em\" style=\"font-size: 0.8em; letter-spacing: 1px\">\n",
       "        <textPath xlink:href=\"#arrow-a271bb260769473ca3080381e15ad9f5-0-21\" class=\"displacy-label\" startOffset=\"50%\" side=\"left\" fill=\"currentColor\" text-anchor=\"middle\">cc</textPath>\n",
       "    </text>\n",
       "    <path class=\"displacy-arrowhead\" d=\"M3885.0,354.0 L3893.0,342.0 3877.0,342.0\" fill=\"currentColor\"/>\n",
       "</g>\n",
       "\n",
       "<g class=\"displacy-arrow\">\n",
       "    <path class=\"displacy-arc\" id=\"arrow-a271bb260769473ca3080381e15ad9f5-0-22\" stroke-width=\"2px\" d=\"M3745,352.0 C3745,177.0 4065.0,177.0 4065.0,352.0\" fill=\"none\" stroke=\"currentColor\"/>\n",
       "    <text dy=\"1.25em\" style=\"font-size: 0.8em; letter-spacing: 1px\">\n",
       "        <textPath xlink:href=\"#arrow-a271bb260769473ca3080381e15ad9f5-0-22\" class=\"displacy-label\" startOffset=\"50%\" side=\"left\" fill=\"currentColor\" text-anchor=\"middle\">conj</textPath>\n",
       "    </text>\n",
       "    <path class=\"displacy-arrowhead\" d=\"M4065.0,354.0 L4073.0,342.0 4057.0,342.0\" fill=\"currentColor\"/>\n",
       "</g>\n",
       "</svg>"
      ],
      "text/plain": [
       "<IPython.core.display.HTML object>"
      ]
     },
     "metadata": {},
     "output_type": "display_data"
    }
   ],
   "source": [
    "displacy.render(doc, jupyter=True, style='dep')"
   ]
  },
  {
   "cell_type": "code",
   "execution_count": 42,
   "metadata": {},
   "outputs": [],
   "source": [
    "doc = general_nlp(df['opinion'][1234])"
   ]
  },
  {
   "cell_type": "code",
   "execution_count": 45,
   "metadata": {},
   "outputs": [],
   "source": [
    "sentences = [sent.text for sent in doc.sents]"
   ]
  },
  {
   "cell_type": "code",
   "execution_count": 46,
   "metadata": {},
   "outputs": [
    {
     "data": {
      "text/plain": [
       "81"
      ]
     },
     "execution_count": 46,
     "metadata": {},
     "output_type": "execute_result"
    }
   ],
   "source": [
    "len(sentences)"
   ]
  },
  {
   "cell_type": "code",
   "execution_count": 61,
   "metadata": {},
   "outputs": [],
   "source": [
    "for ent in doc.ents:\n",
    "    PERSONS = list(set([ent.text for ent in doc.ents if ent.label_ == 'PERSON']))\n",
    "    PERSONS.sort()"
   ]
  },
  {
   "cell_type": "code",
   "execution_count": 62,
   "metadata": {},
   "outputs": [
    {
     "data": {
      "text/plain": [
       "['Berwyn', 'Charles', 'Charles Carlson', 'Nancy', 'Nancy Carlson', 'Stat']"
      ]
     },
     "execution_count": 62,
     "metadata": {},
     "output_type": "execute_result"
    }
   ],
   "source": [
    "PERSONS"
   ]
  },
  {
   "cell_type": "code",
   "execution_count": 75,
   "metadata": {},
   "outputs": [],
   "source": [
    "for ent in doc.ents:\n",
    "    DATES = list(set([ent.text for ent in doc.ents if ent.label_ == 'DATE']))\n",
    "    DATES.sort()"
   ]
  },
  {
   "cell_type": "code",
   "execution_count": 77,
   "metadata": {},
   "outputs": [
    {
     "data": {
      "text/plain": [
       "['1983',\n",
       " '1987',\n",
       " 'April of 1985',\n",
       " 'August 23, 1985',\n",
       " 'December 1, 1987',\n",
       " 'December 1, 1987,',\n",
       " 'February 10',\n",
       " 'February 10, 1986',\n",
       " 'January 1986',\n",
       " 'July 16, 1977',\n",
       " 'March 31, 1988',\n",
       " 'May 28, 1985',\n",
       " 'May 7, 1985',\n",
       " 'November 10, 1987',\n",
       " 'September 10',\n",
       " 'September 10, 1987',\n",
       " 'September 4',\n",
       " 'September 4, 1987',\n",
       " 'September 7',\n",
       " 'September 7, 1987',\n",
       " 'just three days',\n",
       " 'the same day']"
      ]
     },
     "execution_count": 77,
     "metadata": {},
     "output_type": "execute_result"
    }
   ],
   "source": [
    "DATES"
   ]
  }
 ],
 "metadata": {
  "kernelspec": {
   "display_name": "LH2019",
   "language": "python",
   "name": "lh2019"
  },
  "language_info": {
   "codemirror_mode": {
    "name": "ipython",
    "version": 3
   },
   "file_extension": ".py",
   "mimetype": "text/x-python",
   "name": "python",
   "nbconvert_exporter": "python",
   "pygments_lexer": "ipython3",
   "version": "3.7.3"
  }
 },
 "nbformat": 4,
 "nbformat_minor": 4
}
